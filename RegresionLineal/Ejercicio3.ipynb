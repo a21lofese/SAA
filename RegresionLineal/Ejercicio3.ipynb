{
 "cells": [
  {
   "cell_type": "markdown",
   "source": [
    "## Cargar el dataset"
   ],
   "metadata": {
    "collapsed": false
   },
   "id": "e53cc10682961a1e"
  },
  {
   "cell_type": "code",
   "outputs": [
    {
     "data": {
      "text/plain": "    x       y\n0  24   82945\n1  35  257251\n2  36  279937\n3  36  279937\n4  42  444529",
      "text/html": "<div>\n<style scoped>\n    .dataframe tbody tr th:only-of-type {\n        vertical-align: middle;\n    }\n\n    .dataframe tbody tr th {\n        vertical-align: top;\n    }\n\n    .dataframe thead th {\n        text-align: right;\n    }\n</style>\n<table border=\"1\" class=\"dataframe\">\n  <thead>\n    <tr style=\"text-align: right;\">\n      <th></th>\n      <th>x</th>\n      <th>y</th>\n    </tr>\n  </thead>\n  <tbody>\n    <tr>\n      <th>0</th>\n      <td>24</td>\n      <td>82945</td>\n    </tr>\n    <tr>\n      <th>1</th>\n      <td>35</td>\n      <td>257251</td>\n    </tr>\n    <tr>\n      <th>2</th>\n      <td>36</td>\n      <td>279937</td>\n    </tr>\n    <tr>\n      <th>3</th>\n      <td>36</td>\n      <td>279937</td>\n    </tr>\n    <tr>\n      <th>4</th>\n      <td>42</td>\n      <td>444529</td>\n    </tr>\n  </tbody>\n</table>\n</div>"
     },
     "execution_count": 2,
     "metadata": {},
     "output_type": "execute_result"
    }
   ],
   "source": [
    "import pandas as pd\n",
    "df = pd.read_csv(\"csv/rl3.csv\")\n",
    "df.head()"
   ],
   "metadata": {
    "collapsed": false,
    "ExecuteTime": {
     "end_time": "2024-03-18T16:25:24.229022Z",
     "start_time": "2024-03-18T16:25:24.218405Z"
    }
   },
   "id": "e5f5b64541abee11",
   "execution_count": 2
  },
  {
   "cell_type": "markdown",
   "source": [
    "## Preparamiento de los datos"
   ],
   "metadata": {
    "collapsed": false
   },
   "id": "bc7b9972a72c2ae5"
  },
  {
   "cell_type": "code",
   "outputs": [
    {
     "data": {
      "text/plain": "        y     x3\n0   82945  13824\n1  257251  42875\n2  279937  46656\n3  279937  46656\n4  444529  74088",
      "text/html": "<div>\n<style scoped>\n    .dataframe tbody tr th:only-of-type {\n        vertical-align: middle;\n    }\n\n    .dataframe tbody tr th {\n        vertical-align: top;\n    }\n\n    .dataframe thead th {\n        text-align: right;\n    }\n</style>\n<table border=\"1\" class=\"dataframe\">\n  <thead>\n    <tr style=\"text-align: right;\">\n      <th></th>\n      <th>y</th>\n      <th>x3</th>\n    </tr>\n  </thead>\n  <tbody>\n    <tr>\n      <th>0</th>\n      <td>82945</td>\n      <td>13824</td>\n    </tr>\n    <tr>\n      <th>1</th>\n      <td>257251</td>\n      <td>42875</td>\n    </tr>\n    <tr>\n      <th>2</th>\n      <td>279937</td>\n      <td>46656</td>\n    </tr>\n    <tr>\n      <th>3</th>\n      <td>279937</td>\n      <td>46656</td>\n    </tr>\n    <tr>\n      <th>4</th>\n      <td>444529</td>\n      <td>74088</td>\n    </tr>\n  </tbody>\n</table>\n</div>"
     },
     "execution_count": 3,
     "metadata": {},
     "output_type": "execute_result"
    }
   ],
   "source": [
    "# Añadir columna x^2\n",
    "df['x3'] = df['x']**3\n",
    "\n",
    "# Separar las columnas x y x^2\n",
    "X = df[['x3']]\n",
    "y = df['y']\n",
    "\n",
    "# Quitamos la columna x\n",
    "df = df.drop('x', axis=1)\n",
    "\n",
    "df.head()"
   ],
   "metadata": {
    "collapsed": false,
    "ExecuteTime": {
     "end_time": "2024-03-18T16:25:24.237142Z",
     "start_time": "2024-03-18T16:25:24.230029Z"
    }
   },
   "id": "9929dbaf160d707f",
   "execution_count": 3
  },
  {
   "cell_type": "markdown",
   "source": [
    "## Visualización de los datos"
   ],
   "metadata": {
    "collapsed": false
   },
   "id": "ca61120dcf2d32ff"
  },
  {
   "cell_type": "code",
   "outputs": [
    {
     "data": {
      "text/plain": "<seaborn.axisgrid.FacetGrid at 0x26b119fe5d0>"
     },
     "execution_count": 4,
     "metadata": {},
     "output_type": "execute_result"
    },
    {
     "data": {
      "text/plain": "<Figure size 500x500 with 1 Axes>",
      "image/png": "[encoded data removed]"
     },
     "metadata": {},
     "output_type": "display_data"
    }
   ],
   "source": [
    "import seaborn as sns\n",
    "\n",
    "sns.lmplot(data=df, x='x3', y='y', order=1)"
   ],
   "metadata": {
    "collapsed": false,
    "ExecuteTime": {
     "end_time": "2024-03-18T16:25:24.569865Z",
     "start_time": "2024-03-18T16:25:24.238198Z"
    }
   },
   "id": "cf167e77ef3d180b",
   "execution_count": 4
  },
  {
   "cell_type": "markdown",
   "source": [
    "## Preparación del conjunto de datos"
   ],
   "metadata": {
    "collapsed": false
   },
   "id": "1a0e53d264a7d051"
  },
  {
   "cell_type": "code",
   "outputs": [],
   "source": [
    "from sklearn.model_selection import train_test_split\n",
    "\n",
    "X_train, X_test, y_train, y_test = train_test_split(X, y, test_size=0.7, random_state=42)"
   ],
   "metadata": {
    "collapsed": false,
    "ExecuteTime": {
     "end_time": "2024-03-18T16:25:24.673698Z",
     "start_time": "2024-03-18T16:25:24.570870Z"
    }
   },
   "id": "80c65175de6158b4",
   "execution_count": 5
  },
  {
   "cell_type": "markdown",
   "source": [
    "## Creación del modelo"
   ],
   "metadata": {
    "collapsed": false
   },
   "id": "a4565cb6aebeef53"
  },
  {
   "cell_type": "code",
   "outputs": [
    {
     "name": "stdout",
     "output_type": "stream",
     "text": [
      "Coeficiente: [6.]\n",
      "Intercepto: 1.0000000298023224\n"
     ]
    }
   ],
   "source": [
    "from sklearn.linear_model import LinearRegression\n",
    "\n",
    "model = LinearRegression()\n",
    "\n",
    "model.fit(X_train, y_train)\n",
    "\n",
    "print(f\"Coeficiente: {model.coef_}\")\n",
    "print(f\"Intercepto: {model.intercept_}\")"
   ],
   "metadata": {
    "collapsed": false,
    "ExecuteTime": {
     "end_time": "2024-03-18T16:25:24.709633Z",
     "start_time": "2024-03-18T16:25:24.674704Z"
    }
   },
   "id": "645762d2e4dcf591",
   "execution_count": 6
  },
  {
   "cell_type": "markdown",
   "source": [
    "## Predicción"
   ],
   "metadata": {
    "collapsed": false
   },
   "id": "d187bc1e283676e8"
  },
  {
   "cell_type": "code",
   "outputs": [
    {
     "name": "stdout",
     "output_type": "stream",
     "text": [
      "MSE: 1.5112556923440345e-15\n",
      "R2: 1.0\n",
      "var: 1.0\n"
     ]
    }
   ],
   "source": [
    "y_pred = model.predict(X_test)\n",
    "\n",
    "from sklearn import metrics\n",
    "\n",
    "print(f\"MSE: {metrics.mean_squared_error(y_test, y_pred)}\")\n",
    "print(f\"R2: {metrics.r2_score(y_test, y_pred)}\")\n",
    "print(f\"var: {metrics.explained_variance_score(y_test, y_pred)}\")"
   ],
   "metadata": {
    "collapsed": false,
    "ExecuteTime": {
     "end_time": "2024-03-18T16:25:24.717002Z",
     "start_time": "2024-03-18T16:25:24.710637Z"
    }
   },
   "id": "d00bec21d422dfb0",
   "execution_count": 7
  },
  {
   "cell_type": "markdown",
   "source": [
    "## Visualización de la predicción"
   ],
   "metadata": {
    "collapsed": false
   },
   "id": "e32360a083486a0f"
  },
  {
   "cell_type": "code",
   "outputs": [
    {
     "name": "stdout",
     "output_type": "stream",
     "text": [
      "La recta de regresión es: y = 6.0x^3 + 1.0\n"
     ]
    }
   ],
   "source": [
    "print(f\"La recta de regresión es: y = {round(model.coef_[0], 2)}x^3 + {round(model.intercept_, 2)}\")"
   ],
   "metadata": {
    "collapsed": false,
    "ExecuteTime": {
     "end_time": "2024-03-18T16:25:24.721388Z",
     "start_time": "2024-03-18T16:25:24.718058Z"
    }
   },
   "id": "c18279ffdda9eb7e",
   "execution_count": 8
  }
 ],
 "metadata": {
  "kernelspec": {
   "display_name": "Python 3",
   "language": "python",
   "name": "python3"
  },
  "language_info": {
   "codemirror_mode": {
    "name": "ipython",
    "version": 2
   },
   "file_extension": ".py",
   "mimetype": "text/x-python",
   "name": "python",
   "nbconvert_exporter": "python",
   "pygments_lexer": "ipython2",
   "version": "2.7.6"
  }
 },
 "nbformat": 4,
 "nbformat_minor": 5
}
