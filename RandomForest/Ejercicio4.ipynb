{
 "cells": [
  {
   "cell_type": "markdown",
   "source": [
    "# Enunciado\n",
    "\n",
    "Realizar el ejercicio 3 de Naive Bayes y KNN con RandomForest."
   ],
   "metadata": {
    "collapsed": false
   },
   "id": "141a533d80ace0da"
  },
  {
   "cell_type": "markdown",
   "source": [
    "# 1. Importación de datos   "
   ],
   "metadata": {
    "collapsed": false
   },
   "id": "990863b6fb699c6d"
  },
  {
   "cell_type": "code",
   "outputs": [
    {
     "data": {
      "text/plain": "   fixed acidity  volatile acidity  citric acid  residual sugar  chlorides  \\\n0            7.4              0.70         0.00             1.9      0.076   \n1            7.8              0.88         0.00             2.6      0.098   \n2            7.8              0.76         0.04             2.3      0.092   \n3           11.2              0.28         0.56             1.9      0.075   \n4            7.4              0.70         0.00             1.9      0.076   \n\n   free sulfur dioxide  total sulfur dioxide  density    pH  sulphates  \\\n0                 11.0                  34.0   0.9978  3.51       0.56   \n1                 25.0                  67.0   0.9968  3.20       0.68   \n2                 15.0                  54.0   0.9970  3.26       0.65   \n3                 17.0                  60.0   0.9980  3.16       0.58   \n4                 11.0                  34.0   0.9978  3.51       0.56   \n\n   alcohol  quality  \n0      9.4        5  \n1      9.8        5  \n2      9.8        5  \n3      9.8        6  \n4      9.4        5  ",
      "text/html": "<div>\n<style scoped>\n    .dataframe tbody tr th:only-of-type {\n        vertical-align: middle;\n    }\n\n    .dataframe tbody tr th {\n        vertical-align: top;\n    }\n\n    .dataframe thead th {\n        text-align: right;\n    }\n</style>\n<table border=\"1\" class=\"dataframe\">\n  <thead>\n    <tr style=\"text-align: right;\">\n      <th></th>\n      <th>fixed acidity</th>\n      <th>volatile acidity</th>\n      <th>citric acid</th>\n      <th>residual sugar</th>\n      <th>chlorides</th>\n      <th>free sulfur dioxide</th>\n      <th>total sulfur dioxide</th>\n      <th>density</th>\n      <th>pH</th>\n      <th>sulphates</th>\n      <th>alcohol</th>\n      <th>quality</th>\n    </tr>\n  </thead>\n  <tbody>\n    <tr>\n      <th>0</th>\n      <td>7.4</td>\n      <td>0.70</td>\n      <td>0.00</td>\n      <td>1.9</td>\n      <td>0.076</td>\n      <td>11.0</td>\n      <td>34.0</td>\n      <td>0.9978</td>\n      <td>3.51</td>\n      <td>0.56</td>\n      <td>9.4</td>\n      <td>5</td>\n    </tr>\n    <tr>\n      <th>1</th>\n      <td>7.8</td>\n      <td>0.88</td>\n      <td>0.00</td>\n      <td>2.6</td>\n      <td>0.098</td>\n      <td>25.0</td>\n      <td>67.0</td>\n      <td>0.9968</td>\n      <td>3.20</td>\n      <td>0.68</td>\n      <td>9.8</td>\n      <td>5</td>\n    </tr>\n    <tr>\n      <th>2</th>\n      <td>7.8</td>\n      <td>0.76</td>\n      <td>0.04</td>\n      <td>2.3</td>\n      <td>0.092</td>\n      <td>15.0</td>\n      <td>54.0</td>\n      <td>0.9970</td>\n      <td>3.26</td>\n      <td>0.65</td>\n      <td>9.8</td>\n      <td>5</td>\n    </tr>\n    <tr>\n      <th>3</th>\n      <td>11.2</td>\n      <td>0.28</td>\n      <td>0.56</td>\n      <td>1.9</td>\n      <td>0.075</td>\n      <td>17.0</td>\n      <td>60.0</td>\n      <td>0.9980</td>\n      <td>3.16</td>\n      <td>0.58</td>\n      <td>9.8</td>\n      <td>6</td>\n    </tr>\n    <tr>\n      <th>4</th>\n      <td>7.4</td>\n      <td>0.70</td>\n      <td>0.00</td>\n      <td>1.9</td>\n      <td>0.076</td>\n      <td>11.0</td>\n      <td>34.0</td>\n      <td>0.9978</td>\n      <td>3.51</td>\n      <td>0.56</td>\n      <td>9.4</td>\n      <td>5</td>\n    </tr>\n  </tbody>\n</table>\n</div>"
     },
     "execution_count": 1,
     "metadata": {},
     "output_type": "execute_result"
    }
   ],
   "source": [
    "import pandas as pd\n",
    "df = pd.read_csv(\"csv/winequality-red.csv\")\n",
    "df.head()"
   ],
   "metadata": {
    "collapsed": false,
    "ExecuteTime": {
     "end_time": "2024-03-18T16:18:10.057692Z",
     "start_time": "2024-03-18T16:18:10.039673Z"
    }
   },
   "id": "87b07fa1fb2fbcca",
   "execution_count": 1
  },
  {
   "cell_type": "code",
   "outputs": [
    {
     "data": {
      "text/plain": "   fixed_acidity  volatile_acidity  citric_acid  residual_sugar  chlorides  \\\n0            7.4              0.70         0.00             1.9      0.076   \n1            7.8              0.88         0.00             2.6      0.098   \n2            7.8              0.76         0.04             2.3      0.092   \n3           11.2              0.28         0.56             1.9      0.075   \n4            7.4              0.70         0.00             1.9      0.076   \n\n   free_sulfur_dioxide  total_sulfur_dioxide  density    pH  sulphates  \\\n0                 11.0                  34.0   0.9978  3.51       0.56   \n1                 25.0                  67.0   0.9968  3.20       0.68   \n2                 15.0                  54.0   0.9970  3.26       0.65   \n3                 17.0                  60.0   0.9980  3.16       0.58   \n4                 11.0                  34.0   0.9978  3.51       0.56   \n\n   alcohol  quality  \n0      9.4        5  \n1      9.8        5  \n2      9.8        5  \n3      9.8        6  \n4      9.4        5  ",
      "text/html": "<div>\n<style scoped>\n    .dataframe tbody tr th:only-of-type {\n        vertical-align: middle;\n    }\n\n    .dataframe tbody tr th {\n        vertical-align: top;\n    }\n\n    .dataframe thead th {\n        text-align: right;\n    }\n</style>\n<table border=\"1\" class=\"dataframe\">\n  <thead>\n    <tr style=\"text-align: right;\">\n      <th></th>\n      <th>fixed_acidity</th>\n      <th>volatile_acidity</th>\n      <th>citric_acid</th>\n      <th>residual_sugar</th>\n      <th>chlorides</th>\n      <th>free_sulfur_dioxide</th>\n      <th>total_sulfur_dioxide</th>\n      <th>density</th>\n      <th>pH</th>\n      <th>sulphates</th>\n      <th>alcohol</th>\n      <th>quality</th>\n    </tr>\n  </thead>\n  <tbody>\n    <tr>\n      <th>0</th>\n      <td>7.4</td>\n      <td>0.70</td>\n      <td>0.00</td>\n      <td>1.9</td>\n      <td>0.076</td>\n      <td>11.0</td>\n      <td>34.0</td>\n      <td>0.9978</td>\n      <td>3.51</td>\n      <td>0.56</td>\n      <td>9.4</td>\n      <td>5</td>\n    </tr>\n    <tr>\n      <th>1</th>\n      <td>7.8</td>\n      <td>0.88</td>\n      <td>0.00</td>\n      <td>2.6</td>\n      <td>0.098</td>\n      <td>25.0</td>\n      <td>67.0</td>\n      <td>0.9968</td>\n      <td>3.20</td>\n      <td>0.68</td>\n      <td>9.8</td>\n      <td>5</td>\n    </tr>\n    <tr>\n      <th>2</th>\n      <td>7.8</td>\n      <td>0.76</td>\n      <td>0.04</td>\n      <td>2.3</td>\n      <td>0.092</td>\n      <td>15.0</td>\n      <td>54.0</td>\n      <td>0.9970</td>\n      <td>3.26</td>\n      <td>0.65</td>\n      <td>9.8</td>\n      <td>5</td>\n    </tr>\n    <tr>\n      <th>3</th>\n      <td>11.2</td>\n      <td>0.28</td>\n      <td>0.56</td>\n      <td>1.9</td>\n      <td>0.075</td>\n      <td>17.0</td>\n      <td>60.0</td>\n      <td>0.9980</td>\n      <td>3.16</td>\n      <td>0.58</td>\n      <td>9.8</td>\n      <td>6</td>\n    </tr>\n    <tr>\n      <th>4</th>\n      <td>7.4</td>\n      <td>0.70</td>\n      <td>0.00</td>\n      <td>1.9</td>\n      <td>0.076</td>\n      <td>11.0</td>\n      <td>34.0</td>\n      <td>0.9978</td>\n      <td>3.51</td>\n      <td>0.56</td>\n      <td>9.4</td>\n      <td>5</td>\n    </tr>\n  </tbody>\n</table>\n</div>"
     },
     "execution_count": 2,
     "metadata": {},
     "output_type": "execute_result"
    }
   ],
   "source": [
    "# Sustituimos los espacio por guiones bajos\n",
    "df.columns = [x.replace(\" \", \"_\") for x in df.columns]\n",
    "df.head()"
   ],
   "metadata": {
    "collapsed": false,
    "ExecuteTime": {
     "end_time": "2024-03-18T16:18:10.068934Z",
     "start_time": "2024-03-18T16:18:10.057692Z"
    }
   },
   "id": "1b827661f63bd52b",
   "execution_count": 2
  },
  {
   "cell_type": "markdown",
   "source": [
    "# 2. Preparación de los datos"
   ],
   "metadata": {
    "collapsed": false
   },
   "id": "df941fed3152799b"
  },
  {
   "cell_type": "code",
   "outputs": [],
   "source": [
    "X = df.drop(\"quality\", axis=1)\n",
    "y = df[\"quality\"]"
   ],
   "metadata": {
    "collapsed": false,
    "ExecuteTime": {
     "end_time": "2024-03-18T16:18:10.073422Z",
     "start_time": "2024-03-18T16:18:10.069942Z"
    }
   },
   "id": "a718c52e88bc37e6",
   "execution_count": 3
  },
  {
   "cell_type": "markdown",
   "source": [
    "# 4. Visualización de la distribución de los datos"
   ],
   "metadata": {
    "collapsed": false
   },
   "id": "5e4a0faf3d4b230f"
  },
  {
   "cell_type": "code",
   "outputs": [
    {
     "name": "stdout",
     "output_type": "stream",
     "text": [
      "quality\n",
      "3     10\n",
      "4     53\n",
      "5    681\n",
      "6    638\n",
      "7    199\n",
      "8     18\n",
      "Name: quality, dtype: int64\n"
     ]
    },
    {
     "data": {
      "text/plain": "<Figure size 500x500 with 1 Axes>",
      "image/png": "[encoded data removed]"
     },
     "metadata": {},
     "output_type": "display_data"
    }
   ],
   "source": [
    "import seaborn as sns\n",
    "import matplotlib.pyplot as plt\n",
    "\n",
    "print(df[\"quality\"].groupby(df[\"quality\"]).size())\n",
    "sns.catplot(x=\"quality\", kind=\"count\", data=df)\n",
    "plt.title('Distribución de las características')\n",
    "plt.xlabel('Característica')\n",
    "plt.ylabel('Frecuencia')\n",
    "plt.show()"
   ],
   "metadata": {
    "collapsed": false,
    "ExecuteTime": {
     "end_time": "2024-03-18T16:18:10.282621Z",
     "start_time": "2024-03-18T16:18:10.074430Z"
    }
   },
   "id": "6b747d2ad487d880",
   "execution_count": 4
  },
  {
   "cell_type": "markdown",
   "source": [
    "# 5. Preparación del conjunto de datos"
   ],
   "metadata": {
    "collapsed": false
   },
   "id": "e23d8bb19f50baaf"
  },
  {
   "cell_type": "code",
   "outputs": [
    {
     "name": "stdout",
     "output_type": "stream",
     "text": [
      "Train: (1119, 13)\n",
      "Test: (480, 13)\n",
      "Conjunto de entrenamiento:\n",
      "   index  fixed_acidity  volatile_acidity  citric_acid  residual_sugar  \\\n",
      "0    925            8.6              0.22         0.36             1.9   \n",
      "1    363           12.5              0.46         0.63             2.0   \n",
      "2    906            7.2              0.54         0.27             2.6   \n",
      "3    426            6.4              0.67         0.08             2.1   \n",
      "4   1251            7.5              0.58         0.14             2.2   \n",
      "\n",
      "   chlorides  free_sulfur_dioxide  total_sulfur_dioxide  density    pH  \\\n",
      "0      0.064                 53.0                  77.0  0.99604  3.47   \n",
      "1      0.071                  6.0                  15.0  0.99880  2.99   \n",
      "2      0.084                 12.0                  78.0  0.99640  3.39   \n",
      "3      0.045                 19.0                  48.0  0.99490  3.49   \n",
      "4      0.077                 27.0                  60.0  0.99630  3.28   \n",
      "\n",
      "   sulphates  alcohol  quality  \n",
      "0       0.87     11.0        7  \n",
      "1       0.87     10.2        5  \n",
      "2       0.71     11.0        5  \n",
      "3       0.49     11.4        6  \n",
      "4       0.59      9.8        5  \n",
      "Conjunto de prueba:\n",
      "   index  fixed_acidity  volatile_acidity  citric_acid  residual_sugar  \\\n",
      "0    803            7.7              0.56         0.08            2.50   \n",
      "1    124            7.8              0.50         0.17            1.60   \n",
      "2    350           10.7              0.67         0.22            2.70   \n",
      "3    682            8.5              0.46         0.31            2.25   \n",
      "4   1326            6.7              0.46         0.24            1.70   \n",
      "\n",
      "   chlorides  free_sulfur_dioxide  total_sulfur_dioxide  density    pH  \\\n",
      "0      0.114                 14.0                  46.0   0.9971  3.24   \n",
      "1      0.082                 21.0                 102.0   0.9960  3.39   \n",
      "2      0.107                 17.0                  34.0   1.0004  3.28   \n",
      "3      0.078                 32.0                  58.0   0.9980  3.33   \n",
      "4      0.077                 18.0                  34.0   0.9948  3.39   \n",
      "\n",
      "   sulphates  alcohol  quality  \n",
      "0       0.66      9.6        6  \n",
      "1       0.48      9.5        5  \n",
      "2       0.98      9.9        6  \n",
      "3       0.54      9.8        5  \n",
      "4       0.60     10.6        6  \n"
     ]
    }
   ],
   "source": [
    "from sklearn.model_selection import train_test_split\n",
    "\n",
    "p_train = 0.7\n",
    "\n",
    "train, test = train_test_split(df, train_size=p_train, random_state=42)\n",
    "\n",
    "# inplace=True: Modifica el dataframe original en lugar de devolver uno nuevo\n",
    "train.reset_index(inplace=True)\n",
    "test.reset_index(inplace=True)\n",
    "\n",
    "print(f\"Train: {train.shape}\")\n",
    "print(f\"Test: {test.shape}\")\n",
    "\n",
    "print(\"Conjunto de entrenamiento:\")\n",
    "print(train.head())\n",
    "\n",
    "print(\"Conjunto de prueba:\")\n",
    "print(test.head())"
   ],
   "metadata": {
    "collapsed": false,
    "ExecuteTime": {
     "end_time": "2024-03-18T16:18:10.393146Z",
     "start_time": "2024-03-18T16:18:10.283630Z"
    }
   },
   "id": "ec12a8f8a89eb86c",
   "execution_count": 5
  },
  {
   "cell_type": "markdown",
   "source": [
    "# 6. Parametrización"
   ],
   "metadata": {
    "collapsed": false
   },
   "id": "16a5a6f1e26bbba2"
  },
  {
   "cell_type": "code",
   "outputs": [
    {
     "data": {
      "text/plain": "<Figure size 640x480 with 1 Axes>",
      "image/png": "[encoded data removed]"
     },
     "metadata": {},
     "output_type": "display_data"
    }
   ],
   "source": [
    "from sklearn.model_selection import TimeSeriesSplit\n",
    "from sklearn.ensemble import RandomForestRegressor\n",
    "from sklearn.metrics import mean_absolute_error\n",
    "import matplotlib.pyplot as plt\n",
    "\n",
    "cv = TimeSeriesSplit()\n",
    "\n",
    "l_estimators = [2, 4, 8, 16, 32, 64, 128, 256, 512, 1024]\n",
    "\n",
    "total_scores = []\n",
    "\n",
    "for estimators in l_estimators:\n",
    "    fold_accuracies = []  # fold_errors para modelo de clasificación, fold_accuracies para modelo de regresión\n",
    "    regressor = RandomForestRegressor(n_estimators=estimators,\n",
    "                                        criterion=\"squared_error\",\n",
    "                                        random_state=42)\n",
    "    for train_fold, test_fold in cv.split(train):\n",
    "        \n",
    "        # División train test aleatoria\n",
    "        f_train = train.loc[train_fold]\n",
    "        f_test = train.loc[test_fold]\n",
    "        \n",
    "        # Entrenamiento y ejecución del modelo\n",
    "        regressor.fit(X=f_train.drop(['quality'], axis=1),\n",
    "                       y=f_train['quality'])\n",
    "        y_pred = regressor.predict(X=f_test.drop(['quality'], axis=1))\n",
    "        \n",
    "        # Evaluación del modelo\n",
    "        mae = mean_absolute_error(f_test['quality'], y_pred)\n",
    "        fold_accuracies.append(mae)\n",
    "\n",
    "    total_scores.append(sum(fold_accuracies) / len(fold_accuracies))\n",
    "\n",
    "plt.plot(l_estimators, total_scores, marker='o')\n",
    "plt.ylabel('MAE')\n",
    "plt.xlabel('Number of Estimators')\n",
    "plt.legend(['Mean Absolute Error'])\n",
    "plt.show()"
   ],
   "metadata": {
    "collapsed": false,
    "ExecuteTime": {
     "end_time": "2024-03-18T16:18:36.463811Z",
     "start_time": "2024-03-18T16:18:10.395160Z"
    }
   },
   "id": "26ddbd4b6089c953",
   "execution_count": 6
  },
  {
   "cell_type": "code",
   "outputs": [
    {
     "name": "stdout",
     "output_type": "stream",
     "text": [
      "Min Value (estimators = 1024, MAE =   0.47)\n"
     ]
    }
   ],
   "source": [
    "import numpy as np\n",
    "best_est = l_estimators[np.argmin(total_scores)]\n",
    "best_mae = min(total_scores)\n",
    "print (\"Min Value (estimators = %i, MAE = %6.2f)\"  % (best_est, best_mae))"
   ],
   "metadata": {
    "collapsed": false,
    "ExecuteTime": {
     "end_time": "2024-03-18T16:18:36.468270Z",
     "start_time": "2024-03-18T16:18:36.463811Z"
    }
   },
   "id": "7a784f7107de0299",
   "execution_count": 7
  },
  {
   "cell_type": "markdown",
   "source": [
    "# 7. Creación del modelo"
   ],
   "metadata": {
    "collapsed": false
   },
   "id": "a6edca66f81a36f0"
  },
  {
   "cell_type": "code",
   "outputs": [],
   "source": [
    "regressor = RandomForestRegressor(n_estimators=best_est,\n",
    "                                    criterion=\"squared_error\",\n",
    "                                    random_state=42)\n",
    "\n",
    "regressor.fit(X=train.drop(['quality'], axis=1),\n",
    "                y=train['quality'])\n",
    "\n",
    "y_pred = regressor.predict(X=test.drop(['quality'], axis=1))"
   ],
   "metadata": {
    "collapsed": false,
    "ExecuteTime": {
     "end_time": "2024-03-18T16:18:41.263382Z",
     "start_time": "2024-03-18T16:18:36.469278Z"
    }
   },
   "id": "e9f48b6844b0af1c",
   "execution_count": 8
  },
  {
   "cell_type": "markdown",
   "source": [
    "# 8. Evaluación del modelo"
   ],
   "metadata": {
    "collapsed": false
   },
   "id": "e869f0c5b20c0859"
  },
  {
   "cell_type": "code",
   "outputs": [
    {
     "name": "stdout",
     "output_type": "stream",
     "text": [
      "Error cuadrático medio: 0.34188424944877627\n",
      "Error absoluto medio: 0.4402364095052083\n",
      "R2: 0.4607703292533626\n"
     ]
    }
   ],
   "source": [
    "from sklearn.metrics import mean_squared_error, mean_absolute_error, r2_score\n",
    "\n",
    "mse = mean_squared_error(test['quality'], y_pred)\n",
    "mae = mean_absolute_error(test['quality'], y_pred)\n",
    "r2 = r2_score(test['quality'], y_pred)\n",
    "\n",
    "print(f\"Error cuadrático medio: {mse}\")\n",
    "print(f\"Error absoluto medio: {mae}\")\n",
    "print(f\"R2: {r2}\")"
   ],
   "metadata": {
    "collapsed": false,
    "ExecuteTime": {
     "end_time": "2024-03-18T16:18:41.269161Z",
     "start_time": "2024-03-18T16:18:41.264396Z"
    }
   },
   "id": "e8aa915aae0c67d8",
   "execution_count": 9
  },
  {
   "cell_type": "markdown",
   "source": [],
   "metadata": {
    "collapsed": false
   },
   "id": "e0ab76d9c9957ce3"
  },
  {
   "cell_type": "code",
   "outputs": [
    {
     "data": {
      "text/plain": "<Figure size 640x480 with 2 Axes>",
      "image/png": "[encoded data removed]"
     },
     "metadata": {},
     "output_type": "display_data"
    }
   ],
   "source": [
    "# redondeamos los valores de calidad para que sean enteros y poder comparar con la predicción\n",
    "test['quality'] = test['quality'].round(0)\n",
    "y_pred = y_pred.round(0)\n",
    "\n",
    "# matriz de confusión\n",
    "from sklearn.metrics import confusion_matrix\n",
    "\n",
    "conf_matrix = confusion_matrix(test['quality'], y_pred)\n",
    "\n",
    "sns.heatmap(conf_matrix, annot=True, fmt='d', cmap='BuPu')\n",
    "plt.title('Matriz de confusión')\n",
    "plt.xlabel('Predicción')\n",
    "plt.ylabel('Real')\n",
    "plt.show()"
   ],
   "metadata": {
    "collapsed": false,
    "ExecuteTime": {
     "end_time": "2024-03-18T16:18:41.459123Z",
     "start_time": "2024-03-18T16:18:41.269161Z"
    }
   },
   "id": "994e0a3ff9ca67c6",
   "execution_count": 10
  },
  {
   "cell_type": "code",
   "outputs": [
    {
     "name": "stdout",
     "output_type": "stream",
     "text": [
      "              precision    recall  f1-score   support\n",
      "\n",
      "           3       0.00      0.00      0.00         1\n",
      "           4       0.00      0.00      0.00        17\n",
      "           5       0.72      0.76      0.74       195\n",
      "           6       0.61      0.68      0.64       200\n",
      "           7       0.48      0.39      0.43        61\n",
      "           8       0.00      0.00      0.00         6\n",
      "\n",
      "    accuracy                           0.64       480\n",
      "   macro avg       0.30      0.31      0.30       480\n",
      "weighted avg       0.61      0.64      0.62       480\n"
     ]
    },
    {
     "name": "stderr",
     "output_type": "stream",
     "text": [
      "C:\\Users\\sergi\\Documents\\Estudios\\venv\\Lib\\site-packages\\sklearn\\metrics\\_classification.py:1497: UndefinedMetricWarning: Precision is ill-defined and being set to 0.0 in labels with no predicted samples. Use `zero_division` parameter to control this behavior.\n",
      "  _warn_prf(average, modifier, f\"{metric.capitalize()} is\", len(result))\n",
      "C:\\Users\\sergi\\Documents\\Estudios\\venv\\Lib\\site-packages\\sklearn\\metrics\\_classification.py:1497: UndefinedMetricWarning: Precision is ill-defined and being set to 0.0 in labels with no predicted samples. Use `zero_division` parameter to control this behavior.\n",
      "  _warn_prf(average, modifier, f\"{metric.capitalize()} is\", len(result))\n",
      "C:\\Users\\sergi\\Documents\\Estudios\\venv\\Lib\\site-packages\\sklearn\\metrics\\_classification.py:1497: UndefinedMetricWarning: Precision is ill-defined and being set to 0.0 in labels with no predicted samples. Use `zero_division` parameter to control this behavior.\n",
      "  _warn_prf(average, modifier, f\"{metric.capitalize()} is\", len(result))\n"
     ]
    }
   ],
   "source": [
    "from sklearn.metrics import classification_report\n",
    "\n",
    "print(classification_report(test['quality'], y_pred))"
   ],
   "metadata": {
    "collapsed": false,
    "ExecuteTime": {
     "end_time": "2024-03-18T16:18:41.470783Z",
     "start_time": "2024-03-18T16:18:41.460129Z"
    }
   },
   "id": "804a3d98642507b3",
   "execution_count": 11
  }
 ],
 "metadata": {
  "kernelspec": {
   "display_name": "Python 3",
   "language": "python",
   "name": "python3"
  },
  "language_info": {
   "codemirror_mode": {
    "name": "ipython",
    "version": 2
   },
   "file_extension": ".py",
   "mimetype": "text/x-python",
   "name": "python",
   "nbconvert_exporter": "python",
   "pygments_lexer": "ipython2",
   "version": "2.7.6"
  }
 },
 "nbformat": 4,
 "nbformat_minor": 5
}
