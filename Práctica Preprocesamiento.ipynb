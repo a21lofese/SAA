{
 "cells": [
  {
   "cell_type": "markdown",
   "metadata": {
    "id": "QDhXVyD2ns4k"
   },
   "source": [
    "En esta práctica vamos a generar una secuencia de valores pesos de diferentes hombres.\n",
    "\n",
    "Tienes que, usando las librerías vistas en este tema y google collab, mostrar:\n",
    "\n",
    "* Media, mediana y rangos.\n",
    "* Desviación estándar muestral.\n",
    "* Dibujar distribución de datos e histograma.\n",
    "* Buscar outliers (con los dos métodos) y observaciones influyentes (si las hay).\n",
    "* Estandarizar los datos de las tres formas que se han visto.\n",
    "\n",
    "A continuación tenéis el código con el que debéis comenzar vuestra práctica.\n",
    "\n"
   ]
  },
  {
   "cell_type": "code",
   "execution_count": 13,
   "metadata": {
    "id": "K3PddQTzeSbe",
    "ExecuteTime": {
     "end_time": "2023-12-12T16:13:33.771419300Z",
     "start_time": "2023-12-12T16:13:33.760701500Z"
    }
   },
   "outputs": [],
   "source": [
    "import numpy as np\n",
    "import pandas as pd\n",
    "import matplotlib.pyplot as plt\n",
    "import scipy.stats as st\n",
    "from sklearn.compose import ColumnTransformer\n",
    "from sklearn.preprocessing import StandardScaler\n",
    "from sklearn.preprocessing import MinMaxScaler\n",
    "# from sklearn.compose import make_column_selector\n",
    "\n",
    "# Generación de datos\n",
    "# ==============================================================================\n",
    "mu, sigma = 75, 15 # media y desviación típica de la población\n",
    "# Generamos una muestra de tamaño 500\n",
    "np.random.seed(1)\n",
    "datos = np.random.normal(mu, sigma, 500)\n",
    "# Cambiamos los valores de dos datos para convertirlos en outliers\n",
    "datos[50]=100\n",
    "datos[75]=1\n",
    "datos[150]=250\n",
    "datos[300]=-10"
   ]
  },
  {
   "cell_type": "code",
   "execution_count": 14,
   "metadata": {
    "colab": {
     "base_uri": "https://localhost:8080/"
    },
    "executionInfo": {
     "elapsed": 3,
     "status": "ok",
     "timestamp": 1700502416258,
     "user": {
      "displayName": "Sergio López Fernández",
      "userId": "15251519486376189860"
     },
     "user_tz": -60
    },
    "id": "8SqVKxUNoX33",
    "outputId": "64856741-2195-4ea3-c84d-83d7d0a03f87",
    "ExecuteTime": {
     "end_time": "2023-12-12T16:13:33.803681500Z",
     "start_time": "2023-12-12T16:13:33.773418300Z"
    }
   },
   "outputs": [
    {
     "name": "stdout",
     "output_type": "stream",
     "text": [
      "Media:  75.88254434431963\n",
      "Mediana:  75.58180382827763\n",
      "Rango:  260.0\n"
     ]
    }
   ],
   "source": [
    "# Media, mediana y rangos.\n",
    "media = np.mean(datos)\n",
    "print(\"Media: \", media)\n",
    "mediana = np.median(datos)\n",
    "print(\"Mediana: \", mediana)\n",
    "rango = np.ptp(datos) # np.max(datos) - np.min(datos)\n",
    "print(\"Rango: \", rango)"
   ]
  },
  {
   "cell_type": "code",
   "execution_count": 15,
   "metadata": {
    "colab": {
     "base_uri": "https://localhost:8080/"
    },
    "executionInfo": {
     "elapsed": 3,
     "status": "ok",
     "timestamp": 1700502416259,
     "user": {
      "displayName": "Sergio López Fernández",
      "userId": "15251519486376189860"
     },
     "user_tz": -60
    },
    "id": "w5CJh7v9qNdJ",
    "outputId": "164c9c93-b9d7-46fc-f08e-89db08d21063",
    "ExecuteTime": {
     "end_time": "2023-12-12T16:13:33.840422400Z",
     "start_time": "2023-12-12T16:13:33.807189700Z"
    }
   },
   "outputs": [
    {
     "name": "stdout",
     "output_type": "stream",
     "text": [
      "Desviación estándar muestral: 17.44545430143048\n"
     ]
    }
   ],
   "source": [
    "# Desviación estándar muestral.\n",
    "desviacion_estandar_muestral = np.std(datos, ddof=1)\n",
    "print(\"Desviación estándar muestral:\", desviacion_estandar_muestral)\n",
    "\n",
    "# Desviación estándar muestral (ddof=1)\n",
    "# Desviación estándar completa (ddof=0) / No hace falta indicar"
   ]
  },
  {
   "cell_type": "code",
   "execution_count": 16,
   "metadata": {
    "colab": {
     "base_uri": "https://localhost:8080/",
     "height": 472
    },
    "executionInfo": {
     "elapsed": 2211,
     "status": "ok",
     "timestamp": 1700502441064,
     "user": {
      "displayName": "Sergio López Fernández",
      "userId": "15251519486376189860"
     },
     "user_tz": -60
    },
    "id": "5jGmrSPGrutD",
    "outputId": "c81e65d8-1a5b-464b-d7ee-c4c35059d222",
    "ExecuteTime": {
     "end_time": "2023-12-12T16:13:34.312747800Z",
     "start_time": "2023-12-12T16:13:33.842439700Z"
    }
   },
   "outputs": [
    {
     "data": {
      "text/plain": "<Figure size 640x480 with 1 Axes>",
      "image/png": "[encoded data removed]"
     },
     "metadata": {},
     "output_type": "display_data"
    }
   ],
   "source": [
    "# Dibujar distribución de datos e histograma.\n",
    "plt.hist(datos, 500)\n",
    "plt.ylabel('Nº de Datos')\n",
    "plt.xlabel('Valor')\n",
    "plt.title('Histograma')\n",
    "plt.show()"
   ]
  },
  {
   "cell_type": "code",
   "execution_count": 17,
   "metadata": {
    "colab": {
     "base_uri": "https://localhost:8080/"
    },
    "executionInfo": {
     "elapsed": 4,
     "status": "ok",
     "timestamp": 1700502417310,
     "user": {
      "displayName": "Sergio López Fernández",
      "userId": "15251519486376189860"
     },
     "user_tz": -60
    },
    "id": "Zr6utEQrtSjr",
    "outputId": "af316114-5895-4d43-cc8d-b52d2d2870d6",
    "ExecuteTime": {
     "end_time": "2023-12-12T16:13:34.315004700Z",
     "start_time": "2023-12-12T16:13:34.310496500Z"
    }
   },
   "outputs": [
    {
     "name": "stdout",
     "output_type": "stream",
     "text": [
      " Alfa = 5e-05\n",
      " CUANTIL Z_(1-alfa/2) = 4.05268\n",
      " Banda = [5.2524, 146.5127]\n",
      " El dato[75] = 1.0 es un outlier\n",
      " El dato[150] = 250.0 es un outlier\n",
      " El dato[300] = -10.0 es un outlier\n"
     ]
    }
   ],
   "source": [
    "# Buscar outliers (con los dos métodos) y observaciones influyentes (si las hay)\n",
    "\n",
    "# Método 1\n",
    "\n",
    "# CRITERIO 1: PROBABILIDAD GLOBAL\n",
    "# Probabilidad de la muestra de estar dentro de las bandas\n",
    "p_g = 0.95\n",
    "\n",
    "# Probabilidad global de una cola\n",
    "alfa_g = (1-p_g)/2\n",
    "\n",
    "# Probabilidad  de las colas para un solo dato\n",
    "alfa = 1-(1-alfa_g)**(1/len(datos))\n",
    "\n",
    "## CRITERIO 2:  Criterio Chauvenet\n",
    "\n",
    "#alfa = 1/(2*len(datos))\n",
    "Z_alfa = st.norm.ppf(1-alfa/2)\n",
    "\n",
    "# Impresión de resultados\n",
    "\n",
    "alfa = round(alfa, 5)\n",
    "Z_alfa = round(Z_alfa, 5)\n",
    "print(f\" Alfa = {alfa}\")\n",
    "print(f\" CUANTIL Z_(1-alfa/2) = {Z_alfa}\")\n",
    "\n",
    "# Cálculo de bandas\n",
    "xL = round(np.mean(datos) - Z_alfa * np.std(datos), 4)\n",
    "xU = round(np.mean(datos) + Z_alfa * np.std(datos), 4)\n",
    "print(f\" Banda = [{xL}, {xU}]\")\n",
    "\n",
    "for i in range(len(datos)):\n",
    "    if datos[i] < xL  or datos[i] > xU:\n",
    "        print(f\" El dato[{i}] = {datos[i]} es un outlier\")"
   ]
  },
  {
   "cell_type": "code",
   "execution_count": 18,
   "metadata": {
    "colab": {
     "base_uri": "https://localhost:8080/"
    },
    "executionInfo": {
     "elapsed": 275,
     "status": "ok",
     "timestamp": 1700504030596,
     "user": {
      "displayName": "Sergio López Fernández",
      "userId": "15251519486376189860"
     },
     "user_tz": -60
    },
    "id": "oMBz_Gh_uuOK",
    "outputId": "84d90fc6-ee64-48ad-a545-986c1d7a65f7",
    "ExecuteTime": {
     "end_time": "2023-12-12T16:13:34.325187600Z",
     "start_time": "2023-12-12T16:13:34.315515Z"
    }
   },
   "outputs": [
    {
     "name": "stdout",
     "output_type": "stream",
     "text": [
      "Bandas: [4.402207827140614,147.48191492762493]\n",
      " El dato[75] = 1.0 es un outlier\n",
      " El dato[150] = 250.0 es un outlier\n",
      " El dato[300] = -10.0 es un outlier\n"
     ]
    }
   ],
   "source": [
    "# Método 2\n",
    "Q1 = np.quantile(datos, 0.25)\n",
    "Q3 = np.quantile(datos, 0.75)\n",
    "IQR = Q3 - Q1\n",
    "k = 3\n",
    "xL = Q1 - k * IQR\n",
    "xU = Q3 + k * IQR\n",
    "print(f\"Bandas: [{xL},{xU}]\")\n",
    "for i in  range(len(datos)):\n",
    "    if datos[i] < xL  or datos[i]>xU:\n",
    "        print(f\" El dato[{i}] = {datos[i]} es un outlier\")"
   ]
  },
  {
   "cell_type": "code",
   "execution_count": 19,
   "metadata": {
    "colab": {
     "base_uri": "https://localhost:8080/"
    },
    "executionInfo": {
     "elapsed": 225,
     "status": "ok",
     "timestamp": 1700504177002,
     "user": {
      "displayName": "Sergio López Fernández",
      "userId": "15251519486376189860"
     },
     "user_tz": -60
    },
    "id": "NElM8X_o7wBn",
    "outputId": "97fc4f4e-d9be-4457-c8ba-ee9c29ba55c4",
    "ExecuteTime": {
     "end_time": "2023-12-12T16:13:34.394617400Z",
     "start_time": "2023-12-12T16:13:34.323015200Z"
    }
   },
   "outputs": [],
   "source": [
    "# Valores Influyentes\n",
    "phi = np.zeros(len(datos))\n",
    "for i in range(len(datos)):\n",
    "  datos_aux = datos\n",
    "  datos_sin_i = np.delete(datos_aux, i)\n",
    "  phi[i] = np.mean(datos_sin_i)\n",
    "\n",
    "for i in  range(len(datos)):\n",
    "        if phi[i] < xL  or phi[i]>xU:\n",
    "          print(f\" El dato [{i}] = '{datos[i]}' es una observación influyente para la media\")"
   ]
  },
  {
   "cell_type": "code",
   "execution_count": 20,
   "metadata": {
    "id": "FgapJq67vDh-",
    "ExecuteTime": {
     "end_time": "2023-12-12T16:13:34.394617400Z",
     "start_time": "2023-12-12T16:13:34.331866200Z"
    }
   },
   "outputs": [],
   "source": [
    "# Estandarizar los datos de las tres formas que se han visto.\n",
    "datos_columna = np.column_stack(datos)\n",
    "Data = pd.DataFrame(datos_columna.flatten(), columns=['Peso'])\n",
    "\n",
    "# Escalamiento\n",
    "# ==============================================================================\n",
    "# Selección de columnas numéricas\n",
    "numeric_cols = Data.select_dtypes(include=['float64', 'int']).columns.to_list()\n",
    "\n",
    "# Standard scaler (Z-Score)\n",
    "preprocessor_SS = ColumnTransformer(\n",
    "                   [('scale', StandardScaler(), numeric_cols)],remainder='passthrough')\n",
    "\n",
    "# MinMaxScaler\n",
    "preprocessor_MM = ColumnTransformer(\n",
    "                   [('scale', MinMaxScaler(), numeric_cols)],remainder='passthrough')\n",
    "\n",
    "# Decimal Scaler\n",
    "m = int(np.floor(np.log10(np.max(np.abs(datos)))))\n",
    "datos_escala_decimal = datos / 10**m\n",
    "Data_decimal = pd.DataFrame(datos_escala_decimal.flatten(), columns=['Peso'])\n",
    "\n",
    "Data_prep_decimal = preprocessor_SS.fit_transform(Data_decimal)\n",
    "Data_prep_SS = preprocessor_SS.fit_transform(Data)\n",
    "Data_prep_MM = preprocessor_MM.fit_transform(Data)"
   ]
  },
  {
   "cell_type": "code",
   "execution_count": 21,
   "metadata": {
    "colab": {
     "base_uri": "https://localhost:8080/",
     "height": 472
    },
    "executionInfo": {
     "elapsed": 716,
     "status": "ok",
     "timestamp": 1700502418024,
     "user": {
      "displayName": "Sergio López Fernández",
      "userId": "15251519486376189860"
     },
     "user_tz": -60
    },
    "id": "qNNSv09fINqW",
    "outputId": "e882d6b5-50de-42d6-a0e9-af616577401d",
    "ExecuteTime": {
     "end_time": "2023-12-12T16:13:34.476933600Z",
     "start_time": "2023-12-12T16:13:34.344888800Z"
    }
   },
   "outputs": [
    {
     "data": {
      "text/plain": "<Figure size 640x480 with 1 Axes>",
      "image/png": "[encoded data removed]"
     },
     "metadata": {},
     "output_type": "display_data"
    }
   ],
   "source": [
    "plt.hist(Data_prep_decimal, 50)\n",
    "plt.ylabel('Número de datos')\n",
    "plt.xlabel('valores')\n",
    "plt.title('Decimal Scaler')\n",
    "plt.show()"
   ]
  },
  {
   "cell_type": "code",
   "execution_count": 22,
   "metadata": {
    "colab": {
     "base_uri": "https://localhost:8080/",
     "height": 472
    },
    "executionInfo": {
     "elapsed": 641,
     "status": "ok",
     "timestamp": 1700502418663,
     "user": {
      "displayName": "Sergio López Fernández",
      "userId": "15251519486376189860"
     },
     "user_tz": -60
    },
    "id": "o882szepHUSE",
    "outputId": "79e9b5fe-da21-4d38-f776-cf304aeaf2d4",
    "ExecuteTime": {
     "end_time": "2023-12-12T16:13:34.598883300Z",
     "start_time": "2023-12-12T16:13:34.470927900Z"
    }
   },
   "outputs": [
    {
     "data": {
      "text/plain": "<Figure size 640x480 with 1 Axes>",
      "image/png": "[encoded data removed]"
     },
     "metadata": {},
     "output_type": "display_data"
    }
   ],
   "source": [
    "plt.hist(Data_prep_SS, 50)\n",
    "plt.ylabel('Número de datos')\n",
    "plt.xlabel('valores')\n",
    "plt.title('Z-Score Scaler')\n",
    "plt.show()"
   ]
  },
  {
   "cell_type": "code",
   "execution_count": 23,
   "metadata": {
    "colab": {
     "base_uri": "https://localhost:8080/",
     "height": 472
    },
    "executionInfo": {
     "elapsed": 956,
     "status": "ok",
     "timestamp": 1700502419618,
     "user": {
      "displayName": "Sergio López Fernández",
      "userId": "15251519486376189860"
     },
     "user_tz": -60
    },
    "id": "aCTXrLdfHXLZ",
    "outputId": "24cb80b5-0531-438d-bb46-f0392dae7449",
    "ExecuteTime": {
     "end_time": "2023-12-12T16:13:34.720827300Z",
     "start_time": "2023-12-12T16:13:34.594016500Z"
    }
   },
   "outputs": [
    {
     "data": {
      "text/plain": "<Figure size 640x480 with 1 Axes>",
      "image/png": "[encoded data removed]"
     },
     "metadata": {},
     "output_type": "display_data"
    }
   ],
   "source": [
    "plt.hist(Data_prep_MM, 50)\n",
    "plt.ylabel('Número de datos')\n",
    "plt.xlabel('valores')\n",
    "plt.title('Min Max Scaler')\n",
    "plt.show()"
   ]
  }
 ],
 "metadata": {
  "colab": {
   "provenance": [
    {
     "file_id": "1TYF1JaH9i9yzqwf2xJRrU_KkHwa9zhfP",
     "timestamp": 1699978641486
    }
   ]
  },
  "kernelspec": {
   "name": "python3",
   "language": "python",
   "display_name": "Python 3 (ipykernel)"
  },
  "language_info": {
   "codemirror_mode": {
    "name": "ipython",
    "version": 3
   },
   "file_extension": ".py",
   "mimetype": "text/x-python",
   "name": "python",
   "nbconvert_exporter": "python",
   "pygments_lexer": "ipython3",
   "version": "3.11.6"
  }
 },
 "nbformat": 4,
 "nbformat_minor": 0
}
